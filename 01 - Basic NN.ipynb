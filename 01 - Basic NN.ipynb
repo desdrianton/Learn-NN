{
 "cells": [
  {
   "metadata": {},
   "cell_type": "markdown",
   "source": "",
   "id": "39613c41b4fc2a2c"
  },
  {
   "metadata": {
    "ExecuteTime": {
     "end_time": "2024-07-09T23:38:42.494657Z",
     "start_time": "2024-07-09T23:38:41.837644Z"
    }
   },
   "cell_type": "code",
   "source": "import numpy as np",
   "id": "ab83cacfc15eb38e",
   "outputs": [],
   "execution_count": 1
  },
  {
   "metadata": {
    "ExecuteTime": {
     "end_time": "2024-07-09T23:41:57.055288Z",
     "start_time": "2024-07-09T23:41:57.049916Z"
    }
   },
   "cell_type": "code",
   "source": [
    "input_first_series = np.array([3])\n",
    "weight = np.array([5])\n",
    "output = input_first_series.dot(weight)\n",
    "\n",
    "print(f\"Input (first series):\\n{input_first_series}\\n\")\n",
    "print(f\"Weights:\\n{weight}\\n\")\n",
    "print(f\"Output:\\n{output}\\n\")"
   ],
   "id": "281c33a13f60a1dc",
   "outputs": [
    {
     "name": "stdout",
     "output_type": "stream",
     "text": [
      "Input (first series):\n",
      "[3]\n",
      "\n",
      "Weights:\n",
      "[5]\n",
      "\n",
      "Output:\n",
      "[15]\n",
      "\n"
     ]
    }
   ],
   "execution_count": 6
  },
  {
   "metadata": {},
   "cell_type": "markdown",
   "source": [
    "---\n",
    "# NN with Multiple-Input and Single-Output"
   ],
   "id": "39991d806b5b400a"
  },
  {
   "metadata": {
    "ExecuteTime": {
     "end_time": "2024-07-09T23:49:17.840298Z",
     "start_time": "2024-07-09T23:49:17.834300Z"
    }
   },
   "cell_type": "code",
   "source": [
    "input_first_series = np.array([3, 5, 7])\n",
    "weight = np.array([[1], \n",
    "                   [2], \n",
    "                   [3]])\n",
    "# output = input_first_series.dot(weight)\n",
    "output = input_first_series * weight\n",
    "\n",
    "print(f\"Input (first series):\\n{input_first_series}\\n\")\n",
    "print(f\"Weights:\\n{weight}\\n\")\n",
    "print(f\"Output:\\n{output}\\n\")"
   ],
   "id": "9ba6fb9c9dd76cf8",
   "outputs": [
    {
     "name": "stdout",
     "output_type": "stream",
     "text": [
      "Input (first series):\n",
      "[3 5 7]\n",
      "\n",
      "Weights:\n",
      "[[1]\n",
      " [2]\n",
      " [3]]\n",
      "\n",
      "Output:\n",
      "[[ 3  5  7]\n",
      " [ 6 10 14]\n",
      " [ 9 15 21]]\n",
      "\n"
     ]
    }
   ],
   "execution_count": 14
  },
  {
   "metadata": {},
   "cell_type": "code",
   "outputs": [],
   "execution_count": null,
   "source": "",
   "id": "c64a0077b792335c"
  }
 ],
 "metadata": {
  "kernelspec": {
   "display_name": "Python 3",
   "language": "python",
   "name": "python3"
  },
  "language_info": {
   "codemirror_mode": {
    "name": "ipython",
    "version": 2
   },
   "file_extension": ".py",
   "mimetype": "text/x-python",
   "name": "python",
   "nbconvert_exporter": "python",
   "pygments_lexer": "ipython2",
   "version": "2.7.6"
  }
 },
 "nbformat": 4,
 "nbformat_minor": 5
}
