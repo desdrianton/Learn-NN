{
 "cells": [
  {
   "metadata": {},
   "cell_type": "markdown",
   "source": [
    "---\n",
    "# Latex Overview"
   ],
   "id": "baa96956be19a29b"
  },
  {
   "metadata": {},
   "cell_type": "markdown",
   "source": "$$ y = a + b x $$",
   "id": "869b907959fad127"
  },
  {
   "metadata": {},
   "cell_type": "markdown",
   "source": "$$P(A \\mid B) = \\frac{ P(B \\mid A) P(A) }{ P(B) }$$",
   "id": "639f222cd82a1a28"
  },
  {
   "metadata": {},
   "cell_type": "markdown",
   "source": "In here we using single character $ y = a + b x $ inlays into text",
   "id": "2ccbb241d8d13b4c"
  },
  {
   "metadata": {},
   "cell_type": "markdown",
   "source": [
    "---\n",
    "# Common mathematical symbols"
   ],
   "id": "539729add9d30161"
  },
  {
   "metadata": {},
   "cell_type": "markdown",
   "source": [
    "$$\n",
    "a_{1}\n",
    "x^{2}\n",
    "\\sum_{i=1}^{N}\n",
    "$$"
   ],
   "id": "42cea8f8e987191f"
  },
  {
   "metadata": {},
   "cell_type": "markdown",
   "source": "$$ \\sqrt[4]{x^2+y^2} $$",
   "id": "451c1797cb202d59"
  },
  {
   "metadata": {},
   "cell_type": "markdown",
   "source": "$$ \\overrightarrow{AB}*\\vec A $$",
   "id": "47702f9a0c4bd2fc"
  },
  {
   "metadata": {},
   "cell_type": "markdown",
   "source": "$$ f(x) = \\sum_{i=0}^{N} \\int_{a}^{b} g(t,i) \\text{d}$$",
   "id": "9d11e8d838028ef"
  },
  {
   "metadata": {},
   "cell_type": "markdown",
   "source": [
    "---\n",
    "# Matrix"
   ],
   "id": "8b6f76b789cdeca0"
  },
  {
   "metadata": {},
   "cell_type": "markdown",
   "source": [
    "$$\n",
    "\\begin{matrix}\n",
    "1 & 2 & 3 \\\\\n",
    "4 & 5 & 6 \\\\\n",
    "7 & 8 & 9\n",
    "\\end{matrix}\n",
    "$$\n"
   ],
   "id": "2078dea696004c68"
  },
  {
   "metadata": {},
   "cell_type": "markdown",
   "source": [
    "$$\n",
    "\\left [\n",
    "\\begin{matrix}\n",
    "1 & 2 & 3 \\\\\n",
    "4 & 5 & 6 \\\\\n",
    "7 & 8 & 9\n",
    "\\end{matrix}\n",
    "\\right ]\n",
    "$$"
   ],
   "id": "180234a3a15bc949"
  },
  {
   "metadata": {},
   "cell_type": "markdown",
   "source": [
    "$$\n",
    "\\begin{bmatrix}\n",
    "1 & 2 & \\cdots & 4 \\\\\n",
    "7 & 6 & \\cdots & 5 \\\\\n",
    "\\vdots & \\vdots & \\ddots & \\vdots \\\\\n",
    "8 & 9 & \\cdots & 10\n",
    "\\end{bmatrix}\n",
    "$$"
   ],
   "id": "3b6ff08b9026a5a5"
  },
  {
   "metadata": {},
   "cell_type": "markdown",
   "source": "",
   "id": "942b5e507dc59278"
  }
 ],
 "metadata": {
  "kernelspec": {
   "display_name": "Python 3",
   "language": "python",
   "name": "python3"
  },
  "language_info": {
   "codemirror_mode": {
    "name": "ipython",
    "version": 2
   },
   "file_extension": ".py",
   "mimetype": "text/x-python",
   "name": "python",
   "nbconvert_exporter": "python",
   "pygments_lexer": "ipython2",
   "version": "2.7.6"
  }
 },
 "nbformat": 4,
 "nbformat_minor": 5
}
